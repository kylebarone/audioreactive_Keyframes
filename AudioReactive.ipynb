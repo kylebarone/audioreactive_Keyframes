{
  "cells": [
    {
      "cell_type": "code",
      "execution_count": 1,
      "metadata": {
        "id": "yt1m534XcBCY"
      },
      "outputs": [],
      "source": [
        "import numpy as np\n",
        "import librosa\n",
        "import matplotlib.pyplot as plt"
      ]
    },
    {
      "cell_type": "code",
      "source": [
        "file_path = '/content/JinsangAffectionTrimmed.mp3'\n",
        "x, sr = librosa.load(file_path)"
      ],
      "metadata": {
        "colab": {
          "base_uri": "https://localhost:8080/"
        },
        "id": "81Cl2kV9cHVP",
        "outputId": "0f77ff5b-1dcc-4661-8926-577a5c7d9349"
      },
      "execution_count": 3,
      "outputs": [
        {
          "output_type": "stream",
          "name": "stderr",
          "text": [
            "/usr/local/lib/python3.7/dist-packages/librosa/core/audio.py:165: UserWarning: PySoundFile failed. Trying audioread instead.\n",
            "  warnings.warn(\"PySoundFile failed. Trying audioread instead.\")\n"
          ]
        }
      ]
    },
    {
      "cell_type": "code",
      "source": [
        "print(sr)\n",
        "plt.plot(np.arange(len(x)), x)"
      ],
      "metadata": {
        "colab": {
          "base_uri": "https://localhost:8080/",
          "height": 300
        },
        "id": "QGHmz_Rgcg_H",
        "outputId": "deb3747d-2b7c-4774-8974-9af6815d56c8"
      },
      "execution_count": 4,
      "outputs": [
        {
          "output_type": "stream",
          "name": "stdout",
          "text": [
            "22050\n"
          ]
        },
        {
          "output_type": "execute_result",
          "data": {
            "text/plain": [
              "[<matplotlib.lines.Line2D at 0x7fc27d67ff90>]"
            ]
          },
          "metadata": {},
          "execution_count": 4
        },
        {
          "output_type": "display_data",
          "data": {
            "text/plain": [
              "<Figure size 432x288 with 1 Axes>"
            ],
            "image/png": "[encoded data removed]"
          },
          "metadata": {
            "needs_background": "light"
          }
        }
      ]
    },
    {
      "cell_type": "code",
      "source": [
        "onset_frames = librosa.onset.onset_detect(x, sr=sr, wait=1, pre_avg=1, post_avg=1, pre_max=1, post_max=1)\n",
        "print(onset_frames)\n",
        "len(x)"
      ],
      "metadata": {
        "colab": {
          "base_uri": "https://localhost:8080/"
        },
        "id": "7gXDlBbjdfbu",
        "outputId": "42f75ea8-d10a-499d-84da-a7c979212363"
      },
      "execution_count": 5,
      "outputs": [
        {
          "output_type": "stream",
          "name": "stdout",
          "text": [
            "[ 37  95  99 160 221 239 253 279 283 301 310 315 331 344 362 376 393 406\n",
            " 424 438 454 467 485 499 515]\n"
          ]
        },
        {
          "output_type": "execute_result",
          "data": {
            "text/plain": [
              "267264"
            ]
          },
          "metadata": {},
          "execution_count": 5
        }
      ]
    },
    {
      "cell_type": "code",
      "execution_count": 6,
      "metadata": {
        "id": "XTxjSX-1cBCc"
      },
      "outputs": [],
      "source": [
        "onset_frames = librosa.onset.onset_detect(x, sr=sr, wait=1, pre_avg=1, post_avg=1, pre_max=1, post_max=1)\n",
        "onset_times = librosa.frames_to_time(onset_frames)\n",
        "# remove extension, .mp3, .wav etc.\n",
        "save_audio_txt = False#@param {type:\"boolean\"}\n",
        "\n",
        "if save_audio_txt:\n",
        "  file_name_no_extension, _ = os.path.splitext(file_path)\n",
        "  file_name = f'working_dir/JinsangAffection'\n",
        "  output_name = file_name_no_extension + '.beatmap.txt'\n",
        "  with open(output_name, 'wt') as f:\n",
        "      f.write('\\n'.join(['%.4f' % onset_time for onset_time in onset_times]))"
      ]
    },
    {
      "cell_type": "code",
      "execution_count": 7,
      "metadata": {
        "colab": {
          "base_uri": "https://localhost:8080/"
        },
        "id": "fel4n08ocBCc",
        "outputId": "8d732c22-c667-435e-a40c-b65835d7c0fa"
      },
      "outputs": [
        {
          "output_type": "stream",
          "name": "stdout",
          "text": [
            "[0.625 0.625 0.625 0.625 0.625 0.625 0.625 0.625 0.625 0.625 1.875 0.625\n",
            " 0.625 0.625 0.625 0.625 0.625 0.625 0.625 0.625 0.625 0.625 0.625 0.625\n",
            " 0.625 0.625 1.875 1.875 0.625 0.625 0.625 0.625 0.625 0.625 0.625 0.625\n",
            " 0.625 0.625 0.625 0.625 0.625 0.625 0.625 0.625 1.875 0.625 0.625 0.625\n",
            " 0.625 0.625 0.625 0.625 0.625 0.625 0.625 0.625 0.625 0.625 0.625 0.625\n",
            " 0.625 1.875 0.625 0.625 0.625 0.625 1.875 0.625 0.625 0.625 1.875 0.625\n",
            " 0.625 0.625 0.625 0.625 0.625 1.875 1.875 0.625 0.625 0.625 0.625 1.875\n",
            " 0.625 0.625 1.875 1.875 0.625 0.625 0.625 0.625 1.875 0.625 0.625 1.875\n",
            " 0.625 0.625 0.625 0.625 1.875 0.625 0.625 0.625 1.875 0.625 0.625 0.625\n",
            " 0.625 1.875 0.625 0.625 0.625 1.875 0.625 0.625 0.625 0.625 1.875 0.625\n",
            " 0.625 0.625 1.875 0.625 0.625 0.625 1.875 0.625 0.625 0.625 1.875 0.625\n",
            " 0.625 0.625 0.625 1.875 0.625 0.625 0.625 1.875 0.625 0.625 0.625 1.875]\n"
          ]
        }
      ],
      "source": [
        "#@markdown Audio compoenent. Step 1: gets array that has time stamps of beats, and magnitudes. Create array whhere index is \n",
        "fps = 12 #frames per second\n",
        "sec_total = 12 # total seconds of audio\n",
        "\n",
        "t_lin_step = 1 / fps # the amount time represented by index\n",
        "total_lin_step = sec_total * fps \n",
        "t_lin = np.linspace(0, sec_total, num=total_lin_step) # time steps of each frame and weight \n",
        "\n",
        "vals, bin_edgs = np.histogram(onset_times, bins=total_lin_step, range=(0,sec_total))\n",
        "\n",
        "beat_factor_scale = 2.5\n",
        "beat_factor_mask = ((vals+.5)/2)*beat_factor_scale\n",
        "print(beat_factor_mask)"
      ]
    },
    {
      "cell_type": "code",
      "source": [
        "beat_ind = np.argwhere(vals) # indices in terms of frames in vid of where beat occurs\n",
        "beat_ind\n",
        "\n",
        "frames_change_pre_beat = 0\n",
        "frames_change_post_beat = 6 # there are the amount of buffer frames before and after a beat to let value linear change\n",
        "#   If my beat is at 10.    9:(0), 10:(1), 22:(0). So between frames 10-22 they linearly scale. But look to change from linear to -exp \n",
        "post_beat_transition__value = 3\n",
        "beat_transition_value = 12 \n",
        "pre_beat_transition__value =0\n",
        "\n",
        "key_frame_ind = beat_ind * np.ones((1, 3))\n",
        "\n",
        "key_frame_ind[:, 0] -= (frames_change_pre_beat+1)\n",
        "key_frame_ind[:, 2] += (frames_change_post_beat)\n",
        "\n",
        "val_test = key_frame_ind.reshape(key_frame_ind.shape[0],3,1)\n",
        "key_frame_value = []\n",
        "post_beat = 99\n",
        "for i in range(len(beat_ind)):\n",
        "  #print()\n",
        "  if post_beat < beat_ind[i]:\n",
        "    post_tup = (post_beat,  post_beat_transition__value)\n",
        "    key_frame_value.append(post_tup)\n",
        "    #print(f\"{i}  beat_ind[i]: {beat_ind[i]}, post {post_tup}\")\n",
        "  pre = (beat_ind[i] - frames_change_pre_beat - 1)[0]\n",
        "  if len(key_frame_value) ==0 or len(key_frame_value)!=0 and key_frame_value[-1][0] != pre:\n",
        "    #print(f\"{i}  beat_ind[i]: {beat_ind[i]}, pre {pre, 0}\")\n",
        "    key_frame_value.append((pre, pre_beat_transition__value))\n",
        "  beat = beat_ind[i][0]\n",
        "  #print(f\"{i}  beat_ind[i]: {beat_ind[i]}, beat {beat, beat_transition_value}\")\n",
        "  key_frame_value.append((beat,  beat_transition_value))\n",
        "  post_beat = (beat_ind[i] + (frames_change_post_beat))[0]\n",
        "  \n",
        "print(key_frame_value)\n",
        "\n",
        "string_list = []\n",
        "for key_frame, val in key_frame_value:\n",
        "  string = f\"{key_frame}:({val}),\"\n",
        "  string_list.append(string)\n",
        "\n",
        "key_frame_string = \"\".join(string_list)\n",
        "key_frame_string"
      ],
      "metadata": {
        "colab": {
          "base_uri": "https://localhost:8080/",
          "height": 107
        },
        "id": "7_agYbFFeN22",
        "outputId": "28b9445c-52f5-4e69-8ca0-58abdda70091"
      },
      "execution_count": 8,
      "outputs": [
        {
          "output_type": "stream",
          "name": "stdout",
          "text": [
            "[(9, 0), (10, 12), (16, 3), (25, 0), (26, 12), (27, 12), (33, 3), (43, 0), (44, 12), (50, 3), (60, 0), (61, 12), (65, 0), (66, 12), (69, 0), (70, 12), (76, 3), (77, 12), (78, 12), (82, 0), (83, 12), (85, 0), (86, 12), (87, 12), (91, 0), (92, 12), (94, 0), (95, 12), (99, 0), (100, 12), (103, 0), (104, 12), (108, 0), (109, 12), (112, 0), (113, 12), (117, 0), (118, 12), (121, 0), (122, 12), (125, 0), (126, 12), (129, 0), (130, 12), (134, 0), (135, 12), (138, 0), (139, 12), (142, 0), (143, 12)]\n"
          ]
        },
        {
          "output_type": "execute_result",
          "data": {
            "text/plain": [
              "'9:(0),10:(12),16:(3),25:(0),26:(12),27:(12),33:(3),43:(0),44:(12),50:(3),60:(0),61:(12),65:(0),66:(12),69:(0),70:(12),76:(3),77:(12),78:(12),82:(0),83:(12),85:(0),86:(12),87:(12),91:(0),92:(12),94:(0),95:(12),99:(0),100:(12),103:(0),104:(12),108:(0),109:(12),112:(0),113:(12),117:(0),118:(12),121:(0),122:(12),125:(0),126:(12),129:(0),130:(12),134:(0),135:(12),138:(0),139:(12),142:(0),143:(12),'"
            ],
            "application/vnd.google.colaboratory.intrinsic+json": {
              "type": "string"
            }
          },
          "metadata": {},
          "execution_count": 8
        }
      ]
    },
    {
      "cell_type": "code",
      "source": [
        ""
      ],
      "metadata": {
        "id": "QHIAg4TqiHaO"
      },
      "execution_count": null,
      "outputs": []
    }
  ],
  "metadata": {
    "interpreter": {
      "hash": "40d3a090f54c6569ab1632332b64b2c03c39dcf918b08424e98f38b5ae0af88f"
    },
    "kernelspec": {
      "display_name": "Python 3.8.3 ('base')",
      "language": "python",
      "name": "python3"
    },
    "language_info": {
      "name": "python",
      "version": "3.8.3"
    },
    "orig_nbformat": 4,
    "colab": {
      "name": "AudioReactive.ipynb",
      "provenance": [],
      "collapsed_sections": []
    }
  },
  "nbformat": 4,
  "nbformat_minor": 0
}