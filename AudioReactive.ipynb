{
 "cells": [
  {
   "cell_type": "code",
   "execution_count": null,
   "metadata": {},
   "outputs": [],
   "source": [
    "import numpy as np\n",
    "import librosa"
   ]
  },
  {
   "cell_type": "code",
   "execution_count": null,
   "metadata": {},
   "outputs": [],
   "source": [
    "\n",
    "\n",
    "file_path = '/JinsangAffectionTrimmed.mp3'\n",
    "x, sr = librosa.load(file_path)\n",
    "onset_frames = librosa.onset.onset_detect(x, sr=sr, wait=1, pre_avg=1, post_avg=1, pre_max=1, post_max=1)\n",
    "onset_times = librosa.frames_to_time(onset_frames)\n",
    "# remove extension, .mp3, .wav etc.\n",
    "save_audio_txt = False#@param {type:\"boolean\"}\n",
    "\n",
    "if save_audio_txt:\n",
    "  file_name_no_extension, _ = os.path.splitext(file_path)\n",
    "  file_name = f'working_dir/JinsangAffection'\n",
    "  output_name = file_name_no_extension + '.beatmap.txt'\n",
    "  with open(output_name, 'wt') as f:\n",
    "      f.write('\\n'.join(['%.4f' % onset_time for onset_time in onset_times]))"
   ]
  },
  {
   "cell_type": "code",
   "execution_count": null,
   "metadata": {},
   "outputs": [],
   "source": [
    "#@markdown Audio compoenent. Step 1: gets array that has time stamps of beats, and magnitudes. Create array whhere index is \n",
    "fps = 12 #frames per second\n",
    "sec_total = 12 # total seconds of audio\n",
    "\n",
    "t_lin_step = 1 / fps # the amount time represented by index\n",
    "total_lin_step = sec_total * fps \n",
    "t_lin = np.linspace(0, sec_total, num=total_lin_step) # time steps of each frame and weight \n",
    "\n",
    "vals, bin_edgs = np.histogram(onset_times, bins=total_lin_step, range=(0,sec_total))\n",
    "\n",
    "beat_factor_scale = 2.5\n",
    "beat_factor_mask = ((vals+.5)/2)*beat_factor_scale\n",
    "print(beat_factor_mask)"
   ]
  }
 ],
 "metadata": {
  "interpreter": {
   "hash": "40d3a090f54c6569ab1632332b64b2c03c39dcf918b08424e98f38b5ae0af88f"
  },
  "kernelspec": {
   "display_name": "Python 3.8.3 ('base')",
   "language": "python",
   "name": "python3"
  },
  "language_info": {
   "name": "python",
   "version": "3.8.3"
  },
  "orig_nbformat": 4
 },
 "nbformat": 4,
 "nbformat_minor": 2
}
